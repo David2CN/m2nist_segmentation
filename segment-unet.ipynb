{
 "cells": [
  {
   "cell_type": "markdown",
   "id": "2d32597e",
   "metadata": {},
   "source": [
    "# Segmentation"
   ]
  },
  {
   "cell_type": "code",
   "execution_count": 1,
   "id": "49dedc20",
   "metadata": {},
   "outputs": [],
   "source": [
    "import numpy as np\n",
    "import tensorflow as tf\n",
    "\n",
    "from utils.data import load_images_and_segments\n",
    "from utils.data import get_training_dataset, get_validation_dataset, get_test_dataset\n",
    "from utils.plotting import list_show_annotation, show_annotation_and_prediction\n",
    "from utils.metrics import class_wise_metrics"
   ]
  },
  {
   "cell_type": "code",
   "execution_count": 2,
   "id": "4f778fe5",
   "metadata": {},
   "outputs": [],
   "source": [
    "IMAGE_ORDERING = 'channels_last'\n",
    "BATCH_SIZE = 32\n",
    "N_CLASSES = 11\n",
    "COLORS = [tuple(np.random.randint(256, size=3) / 255.0) for i in range(N_CLASSES)]"
   ]
  },
  {
   "cell_type": "markdown",
   "id": "19ed7317",
   "metadata": {},
   "source": [
    "## Load data"
   ]
  },
  {
   "cell_type": "code",
   "execution_count": 3,
   "id": "e91513a6",
   "metadata": {},
   "outputs": [],
   "source": [
    "# Load Dataset\n",
    "train_slices, val_slices, test_slices = load_images_and_segments(\"data\")\n",
    "\n",
    "# Create training, validation, test datasets.\n",
    "training_dataset = get_training_dataset(train_slices[0], train_slices[1])\n",
    "validation_dataset = get_validation_dataset(val_slices[0], val_slices[1])\n",
    "test_dataset = get_test_dataset(test_slices[0], test_slices[1])"
   ]
  },
  {
   "cell_type": "code",
   "execution_count": 4,
   "id": "1807876f",
   "metadata": {},
   "outputs": [
    {
     "data": {
      "image/png": "[encoded data removed]",
      "text/plain": [
       "<Figure size 2000x1500 with 3 Axes>"
      ]
     },
     "metadata": {},
     "output_type": "display_data"
    }
   ],
   "source": [
    "list_show_annotation(training_dataset, 3, COLORS)"
   ]
  },
  {
   "cell_type": "markdown",
   "id": "e6933d19",
   "metadata": {},
   "source": [
    "## Create model"
   ]
  },
  {
   "cell_type": "code",
   "execution_count": 5,
   "id": "06c7c049",
   "metadata": {},
   "outputs": [],
   "source": [
    "def conv_block(input_tensor, filters, kernel_size):\n",
    "    '''\n",
    "    Args:\n",
    "    input (tensor) -- batch of images or features\n",
    "    filters (int) -- number of filters of the Conv2D layers\n",
    "    kernel_size (int) -- kernel_size setting of the Conv2D layers\n",
    "    pooling_size (int) -- pooling size of the MaxPooling2D layers\n",
    "    pool_strides (int) -- strides setting of the MaxPooling2D layers\n",
    "\n",
    "    Returns:\n",
    "    (tensor) max pooled and batch-normalized features of the input \n",
    "    '''\n",
    "    x = tf.keras.layers.Conv2D(filters, kernel_size, padding='same', data_format=IMAGE_ORDERING)(input_tensor)\n",
    "    x = tf.keras.layers.ReLU()(x)\n",
    "    x = tf.keras.layers.Conv2D(filters, kernel_size, padding='same', data_format=IMAGE_ORDERING)(x)\n",
    "    x = tf.keras.layers.ReLU()(x)\n",
    "    return x\n",
    "\n",
    "\n",
    "def encoder_block(input_tensor, filters, kernel_size, pooling_size, pool_strides):\n",
    "    '''\n",
    "    Args:\n",
    "    input (tensor) -- batch of images or features\n",
    "    filters (int) -- number of filters of the Conv2D layers\n",
    "    kernel_size (int) -- kernel_size setting of the Conv2D layers\n",
    "    pooling_size (int) -- pooling size of the MaxPooling2D layers\n",
    "    pool_strides (int) -- strides setting of the MaxPooling2D layers\n",
    "\n",
    "    Returns:\n",
    "    (tensor) max pooled and batch-normalized features of the input \n",
    "    '''\n",
    "    out = conv_block(input_tensor, filters, kernel_size)\n",
    "    x = tf.keras.layers.MaxPooling2D(pooling_size, strides=pool_strides)(out)\n",
    "    return x, out"
   ]
  },
  {
   "cell_type": "code",
   "execution_count": 6,
   "id": "59e6bbe3",
   "metadata": {},
   "outputs": [],
   "source": [
    "def unet_encoder(input_height=64, input_width=84):\n",
    "    '''\n",
    "    Defines the downsampling path of the image segmentation model.\n",
    "\n",
    "    Args:\n",
    "      input_height (int) -- height of the images\n",
    "      width (int) -- width of the images\n",
    "\n",
    "    Returns:\n",
    "    (tuple of tensors, tensor)\n",
    "      tuple of tensors -- features extracted at blocks 3 to 5\n",
    "      tensor -- copy of the input\n",
    "    '''\n",
    "   \n",
    "    img_input = tf.keras.layers.Input(shape=(input_height,input_width, 1))\n",
    "\n",
    "    # pad the input image width to 96 pixels\n",
    "    x = tf.keras.layers.ZeroPadding2D(((0, 0), (0, 96-input_width)))(img_input)\n",
    "    \n",
    "    # Block 1\n",
    "    x, e1 = encoder_block(x, filters=64, kernel_size=3, pooling_size=2, pool_strides=2)\n",
    "    \n",
    "    # Block 2\n",
    "    x, e2 = encoder_block(x, filters=128, kernel_size=3, pooling_size=2, pool_strides=2)\n",
    "\n",
    "    # Block 3\n",
    "    x, e3 = encoder_block(x, filters=256, kernel_size=3, pooling_size=2, pool_strides=2)\n",
    "    \n",
    "    # Block 4\n",
    "    x, e4 = encoder_block(x, filters=512, kernel_size=3, pooling_size=2, pool_strides=2)\n",
    "\n",
    "    return (e1, e2, e3, e4), img_input, x"
   ]
  },
  {
   "cell_type": "code",
   "execution_count": 7,
   "id": "efa52700",
   "metadata": {},
   "outputs": [],
   "source": [
    "def bottle_neck(x, filters=1024):\n",
    "    x = conv_block(x, filters=filters, kernel_size=3)\n",
    "    return x"
   ]
  },
  {
   "cell_type": "code",
   "execution_count": 8,
   "id": "ed0bf277",
   "metadata": {},
   "outputs": [],
   "source": [
    "def unet_decoder(bn_out, convs, n_classes):\n",
    "    # features from the encoder stage\n",
    "    e1, e2, e3, e4 = convs\n",
    "    \n",
    "    d = tf.keras.layers.Conv2DTranspose(512, kernel_size=4, strides=2, data_format=IMAGE_ORDERING)(bn_out)\n",
    "    d = tf.keras.layers.Cropping2D(cropping=(1,1))(d)\n",
    "    \n",
    "    d = tf.keras.layers.Add()([d, e4])\n",
    "    d = conv_block(d, 512, kernel_size=2)\n",
    "    \n",
    "\n",
    "    d = tf.keras.layers.Conv2DTranspose(256, kernel_size=4, strides=2, data_format=IMAGE_ORDERING)(d)\n",
    "    d = tf.keras.layers.Cropping2D(cropping=(1,1))(d)\n",
    "    d = tf.keras.layers.Add()([d, e3])\n",
    "    d = conv_block(d, 256, kernel_size=2)\n",
    "    \n",
    "    d = tf.keras.layers.Conv2DTranspose(128, kernel_size=4, strides=2, data_format=IMAGE_ORDERING)(d)\n",
    "    d = tf.keras.layers.Cropping2D(cropping=(1,1))(d)\n",
    "    d = tf.keras.layers.Add()([d, e2])\n",
    "    d = conv_block(d, 128, kernel_size=2)\n",
    "\n",
    "    d = tf.keras.layers.Conv2DTranspose(64, kernel_size=4, strides=2, data_format=IMAGE_ORDERING)(d)\n",
    "    d = tf.keras.layers.Cropping2D(cropping=(1,1))(d)\n",
    "    d = tf.keras.layers.Add()([d, e1])\n",
    "    d = conv_block(d, 64, kernel_size=2)\n",
    "    \n",
    "    d = tf.keras.layers.Conv2D(n_classes, kernel_size=1, strides=1, data_format=IMAGE_ORDERING)(d)\n",
    "    d = tf.keras.layers.Cropping2D(((0, 0), (0, 96-84)))(d)\n",
    "\n",
    "    # append a sigmoid activation\n",
    "    d = (tf.keras.layers.Activation('sigmoid'))(d)\n",
    "\n",
    "    return d"
   ]
  },
  {
   "cell_type": "code",
   "execution_count": 9,
   "id": "d0029443",
   "metadata": {},
   "outputs": [],
   "source": [
    "def unet(n_classes=N_CLASSES):\n",
    "    convs, img_input, enc_out = unet_encoder()\n",
    "    bn_out = bottle_neck(enc_out, 1024)\n",
    "    dec_out = unet_decoder(bn_out, convs, n_classes)\n",
    "    \n",
    "    model = tf.keras.Model(inputs=img_input, outputs=dec_out)\n",
    "    model.summary()\n",
    "    return model"
   ]
  },
  {
   "cell_type": "code",
   "execution_count": 10,
   "id": "76db704a",
   "metadata": {},
   "outputs": [
    {
     "name": "stdout",
     "output_type": "stream",
     "text": [
      "Model: \"model\"\n",
      "__________________________________________________________________________________________________\n",
      " Layer (type)                   Output Shape         Param #     Connected to                     \n",
      "==================================================================================================\n",
      " input_1 (InputLayer)           [(None, 64, 84, 1)]  0           []                               \n",
      "                                                                                                  \n",
      " zero_padding2d (ZeroPadding2D)  (None, 64, 96, 1)   0           ['input_1[0][0]']                \n",
      "                                                                                                  \n",
      " conv2d (Conv2D)                (None, 64, 96, 64)   640         ['zero_padding2d[0][0]']         \n",
      "                                                                                                  \n",
      " re_lu (ReLU)                   (None, 64, 96, 64)   0           ['conv2d[0][0]']                 \n",
      "                                                                                                  \n",
      " conv2d_1 (Conv2D)              (None, 64, 96, 64)   36928       ['re_lu[0][0]']                  \n",
      "                                                                                                  \n",
      " re_lu_1 (ReLU)                 (None, 64, 96, 64)   0           ['conv2d_1[0][0]']               \n",
      "                                                                                                  \n",
      " max_pooling2d (MaxPooling2D)   (None, 32, 48, 64)   0           ['re_lu_1[0][0]']                \n",
      "                                                                                                  \n",
      " conv2d_2 (Conv2D)              (None, 32, 48, 128)  73856       ['max_pooling2d[0][0]']          \n",
      "                                                                                                  \n",
      " re_lu_2 (ReLU)                 (None, 32, 48, 128)  0           ['conv2d_2[0][0]']               \n",
      "                                                                                                  \n",
      " conv2d_3 (Conv2D)              (None, 32, 48, 128)  147584      ['re_lu_2[0][0]']                \n",
      "                                                                                                  \n",
      " re_lu_3 (ReLU)                 (None, 32, 48, 128)  0           ['conv2d_3[0][0]']               \n",
      "                                                                                                  \n",
      " max_pooling2d_1 (MaxPooling2D)  (None, 16, 24, 128)  0          ['re_lu_3[0][0]']                \n",
      "                                                                                                  \n",
      " conv2d_4 (Conv2D)              (None, 16, 24, 256)  295168      ['max_pooling2d_1[0][0]']        \n",
      "                                                                                                  \n",
      " re_lu_4 (ReLU)                 (None, 16, 24, 256)  0           ['conv2d_4[0][0]']               \n",
      "                                                                                                  \n",
      " conv2d_5 (Conv2D)              (None, 16, 24, 256)  590080      ['re_lu_4[0][0]']                \n",
      "                                                                                                  \n",
      " re_lu_5 (ReLU)                 (None, 16, 24, 256)  0           ['conv2d_5[0][0]']               \n",
      "                                                                                                  \n",
      " max_pooling2d_2 (MaxPooling2D)  (None, 8, 12, 256)  0           ['re_lu_5[0][0]']                \n",
      "                                                                                                  \n",
      " conv2d_6 (Conv2D)              (None, 8, 12, 512)   1180160     ['max_pooling2d_2[0][0]']        \n",
      "                                                                                                  \n",
      " re_lu_6 (ReLU)                 (None, 8, 12, 512)   0           ['conv2d_6[0][0]']               \n",
      "                                                                                                  \n",
      " conv2d_7 (Conv2D)              (None, 8, 12, 512)   2359808     ['re_lu_6[0][0]']                \n",
      "                                                                                                  \n",
      " re_lu_7 (ReLU)                 (None, 8, 12, 512)   0           ['conv2d_7[0][0]']               \n",
      "                                                                                                  \n",
      " max_pooling2d_3 (MaxPooling2D)  (None, 4, 6, 512)   0           ['re_lu_7[0][0]']                \n",
      "                                                                                                  \n",
      " conv2d_8 (Conv2D)              (None, 4, 6, 1024)   4719616     ['max_pooling2d_3[0][0]']        \n",
      "                                                                                                  \n",
      " re_lu_8 (ReLU)                 (None, 4, 6, 1024)   0           ['conv2d_8[0][0]']               \n",
      "                                                                                                  \n",
      " conv2d_9 (Conv2D)              (None, 4, 6, 1024)   9438208     ['re_lu_8[0][0]']                \n",
      "                                                                                                  \n",
      " re_lu_9 (ReLU)                 (None, 4, 6, 1024)   0           ['conv2d_9[0][0]']               \n",
      "                                                                                                  \n",
      " conv2d_transpose (Conv2DTransp  (None, 10, 14, 512)  8389120    ['re_lu_9[0][0]']                \n",
      " ose)                                                                                             \n",
      "                                                                                                  \n",
      " cropping2d (Cropping2D)        (None, 8, 12, 512)   0           ['conv2d_transpose[0][0]']       \n",
      "                                                                                                  \n",
      " add (Add)                      (None, 8, 12, 512)   0           ['cropping2d[0][0]',             \n",
      "                                                                  're_lu_7[0][0]']                \n",
      "                                                                                                  \n",
      " conv2d_10 (Conv2D)             (None, 8, 12, 512)   1049088     ['add[0][0]']                    \n",
      "                                                                                                  \n",
      " re_lu_10 (ReLU)                (None, 8, 12, 512)   0           ['conv2d_10[0][0]']              \n",
      "                                                                                                  \n",
      " conv2d_11 (Conv2D)             (None, 8, 12, 512)   1049088     ['re_lu_10[0][0]']               \n",
      "                                                                                                  \n",
      " re_lu_11 (ReLU)                (None, 8, 12, 512)   0           ['conv2d_11[0][0]']              \n",
      "                                                                                                  \n",
      " conv2d_transpose_1 (Conv2DTran  (None, 18, 26, 256)  2097408    ['re_lu_11[0][0]']               \n",
      " spose)                                                                                           \n",
      "                                                                                                  \n",
      " cropping2d_1 (Cropping2D)      (None, 16, 24, 256)  0           ['conv2d_transpose_1[0][0]']     \n",
      "                                                                                                  \n",
      " add_1 (Add)                    (None, 16, 24, 256)  0           ['cropping2d_1[0][0]',           \n",
      "                                                                  're_lu_5[0][0]']                \n",
      "                                                                                                  \n",
      " conv2d_12 (Conv2D)             (None, 16, 24, 256)  262400      ['add_1[0][0]']                  \n",
      "                                                                                                  \n",
      " re_lu_12 (ReLU)                (None, 16, 24, 256)  0           ['conv2d_12[0][0]']              \n",
      "                                                                                                  \n"
     ]
    },
    {
     "name": "stdout",
     "output_type": "stream",
     "text": [
      " conv2d_13 (Conv2D)             (None, 16, 24, 256)  262400      ['re_lu_12[0][0]']               \n",
      "                                                                                                  \n",
      " re_lu_13 (ReLU)                (None, 16, 24, 256)  0           ['conv2d_13[0][0]']              \n",
      "                                                                                                  \n",
      " conv2d_transpose_2 (Conv2DTran  (None, 34, 50, 128)  524416     ['re_lu_13[0][0]']               \n",
      " spose)                                                                                           \n",
      "                                                                                                  \n",
      " cropping2d_2 (Cropping2D)      (None, 32, 48, 128)  0           ['conv2d_transpose_2[0][0]']     \n",
      "                                                                                                  \n",
      " add_2 (Add)                    (None, 32, 48, 128)  0           ['cropping2d_2[0][0]',           \n",
      "                                                                  're_lu_3[0][0]']                \n",
      "                                                                                                  \n",
      " conv2d_14 (Conv2D)             (None, 32, 48, 128)  65664       ['add_2[0][0]']                  \n",
      "                                                                                                  \n",
      " re_lu_14 (ReLU)                (None, 32, 48, 128)  0           ['conv2d_14[0][0]']              \n",
      "                                                                                                  \n",
      " conv2d_15 (Conv2D)             (None, 32, 48, 128)  65664       ['re_lu_14[0][0]']               \n",
      "                                                                                                  \n",
      " re_lu_15 (ReLU)                (None, 32, 48, 128)  0           ['conv2d_15[0][0]']              \n",
      "                                                                                                  \n",
      " conv2d_transpose_3 (Conv2DTran  (None, 66, 98, 64)  131136      ['re_lu_15[0][0]']               \n",
      " spose)                                                                                           \n",
      "                                                                                                  \n",
      " cropping2d_3 (Cropping2D)      (None, 64, 96, 64)   0           ['conv2d_transpose_3[0][0]']     \n",
      "                                                                                                  \n",
      " add_3 (Add)                    (None, 64, 96, 64)   0           ['cropping2d_3[0][0]',           \n",
      "                                                                  're_lu_1[0][0]']                \n",
      "                                                                                                  \n",
      " conv2d_16 (Conv2D)             (None, 64, 96, 64)   16448       ['add_3[0][0]']                  \n",
      "                                                                                                  \n",
      " re_lu_16 (ReLU)                (None, 64, 96, 64)   0           ['conv2d_16[0][0]']              \n",
      "                                                                                                  \n",
      " conv2d_17 (Conv2D)             (None, 64, 96, 64)   16448       ['re_lu_16[0][0]']               \n",
      "                                                                                                  \n",
      " re_lu_17 (ReLU)                (None, 64, 96, 64)   0           ['conv2d_17[0][0]']              \n",
      "                                                                                                  \n",
      " conv2d_18 (Conv2D)             (None, 64, 96, 11)   715         ['re_lu_17[0][0]']               \n",
      "                                                                                                  \n",
      " cropping2d_4 (Cropping2D)      (None, 64, 84, 11)   0           ['conv2d_18[0][0]']              \n",
      "                                                                                                  \n",
      " activation (Activation)        (None, 64, 84, 11)   0           ['cropping2d_4[0][0]']           \n",
      "                                                                                                  \n",
      "==================================================================================================\n",
      "Total params: 32,772,043\n",
      "Trainable params: 32,772,043\n",
      "Non-trainable params: 0\n",
      "__________________________________________________________________________________________________\n",
      "Model: \"model\"\n",
      "__________________________________________________________________________________________________\n",
      " Layer (type)                   Output Shape         Param #     Connected to                     \n",
      "==================================================================================================\n",
      " input_1 (InputLayer)           [(None, 64, 84, 1)]  0           []                               \n",
      "                                                                                                  \n",
      " zero_padding2d (ZeroPadding2D)  (None, 64, 96, 1)   0           ['input_1[0][0]']                \n",
      "                                                                                                  \n",
      " conv2d (Conv2D)                (None, 64, 96, 64)   640         ['zero_padding2d[0][0]']         \n",
      "                                                                                                  \n",
      " re_lu (ReLU)                   (None, 64, 96, 64)   0           ['conv2d[0][0]']                 \n",
      "                                                                                                  \n",
      " conv2d_1 (Conv2D)              (None, 64, 96, 64)   36928       ['re_lu[0][0]']                  \n",
      "                                                                                                  \n",
      " re_lu_1 (ReLU)                 (None, 64, 96, 64)   0           ['conv2d_1[0][0]']               \n",
      "                                                                                                  \n",
      " max_pooling2d (MaxPooling2D)   (None, 32, 48, 64)   0           ['re_lu_1[0][0]']                \n",
      "                                                                                                  \n",
      " conv2d_2 (Conv2D)              (None, 32, 48, 128)  73856       ['max_pooling2d[0][0]']          \n",
      "                                                                                                  \n",
      " re_lu_2 (ReLU)                 (None, 32, 48, 128)  0           ['conv2d_2[0][0]']               \n",
      "                                                                                                  \n",
      " conv2d_3 (Conv2D)              (None, 32, 48, 128)  147584      ['re_lu_2[0][0]']                \n",
      "                                                                                                  \n",
      " re_lu_3 (ReLU)                 (None, 32, 48, 128)  0           ['conv2d_3[0][0]']               \n",
      "                                                                                                  \n",
      " max_pooling2d_1 (MaxPooling2D)  (None, 16, 24, 128)  0          ['re_lu_3[0][0]']                \n",
      "                                                                                                  \n",
      " conv2d_4 (Conv2D)              (None, 16, 24, 256)  295168      ['max_pooling2d_1[0][0]']        \n",
      "                                                                                                  \n",
      " re_lu_4 (ReLU)                 (None, 16, 24, 256)  0           ['conv2d_4[0][0]']               \n",
      "                                                                                                  \n",
      " conv2d_5 (Conv2D)              (None, 16, 24, 256)  590080      ['re_lu_4[0][0]']                \n",
      "                                                                                                  \n",
      " re_lu_5 (ReLU)                 (None, 16, 24, 256)  0           ['conv2d_5[0][0]']               \n",
      "                                                                                                  \n",
      " max_pooling2d_2 (MaxPooling2D)  (None, 8, 12, 256)  0           ['re_lu_5[0][0]']                \n",
      "                                                                                                  \n",
      " conv2d_6 (Conv2D)              (None, 8, 12, 512)   1180160     ['max_pooling2d_2[0][0]']        \n"
     ]
    },
    {
     "name": "stdout",
     "output_type": "stream",
     "text": [
      "                                                                                                  \n",
      " re_lu_6 (ReLU)                 (None, 8, 12, 512)   0           ['conv2d_6[0][0]']               \n",
      "                                                                                                  \n",
      " conv2d_7 (Conv2D)              (None, 8, 12, 512)   2359808     ['re_lu_6[0][0]']                \n",
      "                                                                                                  \n",
      " re_lu_7 (ReLU)                 (None, 8, 12, 512)   0           ['conv2d_7[0][0]']               \n",
      "                                                                                                  \n",
      " max_pooling2d_3 (MaxPooling2D)  (None, 4, 6, 512)   0           ['re_lu_7[0][0]']                \n",
      "                                                                                                  \n",
      " conv2d_8 (Conv2D)              (None, 4, 6, 1024)   4719616     ['max_pooling2d_3[0][0]']        \n",
      "                                                                                                  \n",
      " re_lu_8 (ReLU)                 (None, 4, 6, 1024)   0           ['conv2d_8[0][0]']               \n",
      "                                                                                                  \n",
      " conv2d_9 (Conv2D)              (None, 4, 6, 1024)   9438208     ['re_lu_8[0][0]']                \n",
      "                                                                                                  \n",
      " re_lu_9 (ReLU)                 (None, 4, 6, 1024)   0           ['conv2d_9[0][0]']               \n",
      "                                                                                                  \n",
      " conv2d_transpose (Conv2DTransp  (None, 10, 14, 512)  8389120    ['re_lu_9[0][0]']                \n",
      " ose)                                                                                             \n",
      "                                                                                                  \n",
      " cropping2d (Cropping2D)        (None, 8, 12, 512)   0           ['conv2d_transpose[0][0]']       \n",
      "                                                                                                  \n",
      " add (Add)                      (None, 8, 12, 512)   0           ['cropping2d[0][0]',             \n",
      "                                                                  're_lu_7[0][0]']                \n",
      "                                                                                                  \n",
      " conv2d_10 (Conv2D)             (None, 8, 12, 512)   1049088     ['add[0][0]']                    \n",
      "                                                                                                  \n",
      " re_lu_10 (ReLU)                (None, 8, 12, 512)   0           ['conv2d_10[0][0]']              \n",
      "                                                                                                  \n",
      " conv2d_11 (Conv2D)             (None, 8, 12, 512)   1049088     ['re_lu_10[0][0]']               \n",
      "                                                                                                  \n",
      " re_lu_11 (ReLU)                (None, 8, 12, 512)   0           ['conv2d_11[0][0]']              \n",
      "                                                                                                  \n",
      " conv2d_transpose_1 (Conv2DTran  (None, 18, 26, 256)  2097408    ['re_lu_11[0][0]']               \n",
      " spose)                                                                                           \n",
      "                                                                                                  \n",
      " cropping2d_1 (Cropping2D)      (None, 16, 24, 256)  0           ['conv2d_transpose_1[0][0]']     \n",
      "                                                                                                  \n",
      " add_1 (Add)                    (None, 16, 24, 256)  0           ['cropping2d_1[0][0]',           \n",
      "                                                                  're_lu_5[0][0]']                \n",
      "                                                                                                  \n",
      " conv2d_12 (Conv2D)             (None, 16, 24, 256)  262400      ['add_1[0][0]']                  \n",
      "                                                                                                  \n",
      " re_lu_12 (ReLU)                (None, 16, 24, 256)  0           ['conv2d_12[0][0]']              \n",
      "                                                                                                  \n",
      " conv2d_13 (Conv2D)             (None, 16, 24, 256)  262400      ['re_lu_12[0][0]']               \n",
      "                                                                                                  \n",
      " re_lu_13 (ReLU)                (None, 16, 24, 256)  0           ['conv2d_13[0][0]']              \n",
      "                                                                                                  \n",
      " conv2d_transpose_2 (Conv2DTran  (None, 34, 50, 128)  524416     ['re_lu_13[0][0]']               \n",
      " spose)                                                                                           \n",
      "                                                                                                  \n",
      " cropping2d_2 (Cropping2D)      (None, 32, 48, 128)  0           ['conv2d_transpose_2[0][0]']     \n",
      "                                                                                                  \n",
      " add_2 (Add)                    (None, 32, 48, 128)  0           ['cropping2d_2[0][0]',           \n",
      "                                                                  're_lu_3[0][0]']                \n",
      "                                                                                                  \n",
      " conv2d_14 (Conv2D)             (None, 32, 48, 128)  65664       ['add_2[0][0]']                  \n",
      "                                                                                                  \n",
      " re_lu_14 (ReLU)                (None, 32, 48, 128)  0           ['conv2d_14[0][0]']              \n",
      "                                                                                                  \n",
      " conv2d_15 (Conv2D)             (None, 32, 48, 128)  65664       ['re_lu_14[0][0]']               \n",
      "                                                                                                  \n",
      " re_lu_15 (ReLU)                (None, 32, 48, 128)  0           ['conv2d_15[0][0]']              \n",
      "                                                                                                  \n",
      " conv2d_transpose_3 (Conv2DTran  (None, 66, 98, 64)  131136      ['re_lu_15[0][0]']               \n",
      " spose)                                                                                           \n",
      "                                                                                                  \n",
      " cropping2d_3 (Cropping2D)      (None, 64, 96, 64)   0           ['conv2d_transpose_3[0][0]']     \n",
      "                                                                                                  \n",
      " add_3 (Add)                    (None, 64, 96, 64)   0           ['cropping2d_3[0][0]',           \n",
      "                                                                  're_lu_1[0][0]']                \n",
      "                                                                                                  \n",
      " conv2d_16 (Conv2D)             (None, 64, 96, 64)   16448       ['add_3[0][0]']                  \n",
      "                                                                                                  \n",
      " re_lu_16 (ReLU)                (None, 64, 96, 64)   0           ['conv2d_16[0][0]']              \n",
      "                                                                                                  \n",
      " conv2d_17 (Conv2D)             (None, 64, 96, 64)   16448       ['re_lu_16[0][0]']               \n",
      "                                                                                                  \n",
      " re_lu_17 (ReLU)                (None, 64, 96, 64)   0           ['conv2d_17[0][0]']              \n",
      "                                                                                                  \n",
      " conv2d_18 (Conv2D)             (None, 64, 96, 11)   715         ['re_lu_17[0][0]']               \n",
      "                                                                                                  \n"
     ]
    },
    {
     "name": "stdout",
     "output_type": "stream",
     "text": [
      " cropping2d_4 (Cropping2D)      (None, 64, 84, 11)   0           ['conv2d_18[0][0]']              \n",
      "                                                                                                  \n",
      " activation (Activation)        (None, 64, 84, 11)   0           ['cropping2d_4[0][0]']           \n",
      "                                                                                                  \n",
      "==================================================================================================\n",
      "Total params: 32,772,043\n",
      "Trainable params: 32,772,043\n",
      "Non-trainable params: 0\n",
      "__________________________________________________________________________________________________\n"
     ]
    }
   ],
   "source": [
    "# define model\n",
    "model = unet()\n",
    "model.summary()"
   ]
  },
  {
   "cell_type": "code",
   "execution_count": 112,
   "id": "406a0da2",
   "metadata": {},
   "outputs": [],
   "source": [
    "# compile model\n",
    "\n",
    "opt = tf.keras.optimizers.Adam(learning_rate=1e-3)\n",
    "model.compile(loss='categorical_crossentropy',\n",
    "              optimizer=opt,\n",
    "              metrics=['accuracy'])"
   ]
  },
  {
   "cell_type": "markdown",
   "id": "6af66dc2",
   "metadata": {},
   "source": [
    "### Train model"
   ]
  },
  {
   "cell_type": "code",
   "execution_count": 14,
   "id": "47c3514a",
   "metadata": {},
   "outputs": [],
   "source": [
    "steps_per_epoch = 4000//BATCH_SIZE\n",
    "validation_steps = 800//BATCH_SIZE\n",
    "test_steps = 200//BATCH_SIZE"
   ]
  },
  {
   "cell_type": "code",
   "execution_count": 113,
   "id": "a8ec2f0d",
   "metadata": {},
   "outputs": [
    {
     "name": "stdout",
     "output_type": "stream",
     "text": [
      "Epoch 1/5\n",
      "125/125 [==============================] - 123s 917ms/step - loss: 0.5441 - accuracy: 0.9351 - val_loss: 0.1426 - val_accuracy: 0.9484\n",
      "Epoch 2/5\n",
      "125/125 [==============================] - 113s 907ms/step - loss: 0.1257 - accuracy: 0.9543 - val_loss: 0.1219 - val_accuracy: 0.9568\n",
      "Epoch 3/5\n",
      "125/125 [==============================] - 112s 900ms/step - loss: 0.0761 - accuracy: 0.9716 - val_loss: 0.0443 - val_accuracy: 0.9852\n",
      "Epoch 4/5\n",
      "125/125 [==============================] - 113s 907ms/step - loss: 0.0355 - accuracy: 0.9881 - val_loss: 0.0276 - val_accuracy: 0.9910\n",
      "Epoch 5/5\n",
      "125/125 [==============================] - 112s 897ms/step - loss: 0.0224 - accuracy: 0.9924 - val_loss: 0.0220 - val_accuracy: 0.9927\n"
     ]
    }
   ],
   "source": [
    "EPOCHS = 5\n",
    "history = model.fit(training_dataset, steps_per_epoch=steps_per_epoch, \n",
    "                    validation_data=validation_dataset, validation_steps=validation_steps, \n",
    "                    epochs=EPOCHS)"
   ]
  },
  {
   "cell_type": "code",
   "execution_count": null,
   "id": "7ef1059b",
   "metadata": {},
   "outputs": [],
   "source": [
    "# save model\n",
    "model.save(\"models/unet_model.h5\")"
   ]
  },
  {
   "cell_type": "code",
   "execution_count": 12,
   "id": "f0e73ab2",
   "metadata": {},
   "outputs": [],
   "source": [
    "# load model\n",
    "model.load_weights(\"./models/unet_model.h5\")"
   ]
  },
  {
   "cell_type": "code",
   "execution_count": 15,
   "id": "c913cd6b",
   "metadata": {},
   "outputs": [
    {
     "name": "stdout",
     "output_type": "stream",
     "text": [
      "6/6 [==============================] - 20s 103ms/step\n",
      "(192, 64, 84)\n"
     ]
    }
   ],
   "source": [
    "results = model.predict(test_dataset, steps=test_steps)\n",
    "results = np.argmax(results, axis=3)\n",
    "\n",
    "print(results.shape)"
   ]
  },
  {
   "cell_type": "markdown",
   "id": "36aa6a6c",
   "metadata": {},
   "source": [
    "### Visualize Predictions"
   ]
  },
  {
   "cell_type": "code",
   "execution_count": 29,
   "id": "3230abd3",
   "metadata": {},
   "outputs": [
    {
     "data": {
      "image/png": "[encoded data removed]",
      "text/plain": [
       "<Figure size 1500x400 with 3 Axes>"
      ]
     },
     "metadata": {},
     "output_type": "display_data"
    }
   ],
   "source": [
    "idx = 34\n",
    "\n",
    "ds = test_dataset.unbatch()\n",
    "ds = ds.batch(192)\n",
    "images = []\n",
    "\n",
    "y_true_segments = []\n",
    "for image, annotation in ds.take(2):\n",
    "    y_true_segments = annotation\n",
    "    images = image\n",
    "  \n",
    "  \n",
    "iou, dice_score = class_wise_metrics(np.argmax(y_true_segments[idx], axis=2), results[idx])  \n",
    "show_annotation_and_prediction(image[idx], annotation[idx], results[idx], iou, dice_score, COLORS)\n",
    "plt.savefig(\"sample_prediction.jpg\", bbox_inches=\"tight\")"
   ]
  },
  {
   "cell_type": "code",
   "execution_count": 25,
   "id": "1c2b3556",
   "metadata": {},
   "outputs": [
    {
     "name": "stdout",
     "output_type": "stream",
     "text": [
      "Digit 0: IOU: 0.9051 Dice Score: 0.9502\n",
      "Digit 1: IOU: 0.8449 Dice Score: 0.9159\n",
      "Digit 2: IOU: 0.7910 Dice Score: 0.8833\n",
      "Digit 3: IOU: 0.7450 Dice Score: 0.8539\n",
      "Digit 4: IOU: 0.8776 Dice Score: 0.9348\n",
      "Digit 5: IOU: 0.8156 Dice Score: 0.8985\n",
      "Digit 6: IOU: 0.9039 Dice Score: 0.9495\n",
      "Digit 7: IOU: 0.8820 Dice Score: 0.9373\n",
      "Digit 8: IOU: 0.8612 Dice Score: 0.9254\n",
      "Digit 9: IOU: 0.7699 Dice Score: 0.8700\n",
      "\n",
      "Grade is 83.96205838143143\n",
      "You passed!\n"
     ]
    }
   ],
   "source": [
    "cls_wise_iou, cls_wise_dice_score = class_wise_metrics(np.argmax(y_true_segments, axis=3), results)\n",
    "\n",
    "average_iou = 0.0\n",
    "for idx, (iou, dice_score) in enumerate(zip(cls_wise_iou[:-1], cls_wise_dice_score[:-1])):\n",
    "    print(f\"Digit {idx}: IOU: {iou:.4f} Dice Score: {dice_score:.4f}\")\n",
    "    average_iou += iou\n",
    "\n",
    "grade = average_iou * 10\n",
    "\n",
    "print(\"\\nGrade is \" + str(grade))\n",
    "\n",
    "PASSING_GRADE = 60\n",
    "if (grade>PASSING_GRADE):\n",
    "    print(\"You passed!\")\n",
    "else:\n",
    "    print(\"You failed. Please check your model and re-train\")"
   ]
  },
  {
   "cell_type": "code",
   "execution_count": null,
   "id": "4e11f176",
   "metadata": {},
   "outputs": [],
   "source": []
  }
 ],
 "metadata": {
  "kernelspec": {
   "display_name": "Python 3 (ipykernel)",
   "language": "python",
   "name": "python3"
  },
  "language_info": {
   "codemirror_mode": {
    "name": "ipython",
    "version": 3
   },
   "file_extension": ".py",
   "mimetype": "text/x-python",
   "name": "python",
   "nbconvert_exporter": "python",
   "pygments_lexer": "ipython3",
   "version": "3.9.12"
  },
  "vscode": {
   "interpreter": {
    "hash": "476251008c67438df4f477b4f6210b249bc460c1268c5ffe7e908fc26faa9410"
   }
  }
 },
 "nbformat": 4,
 "nbformat_minor": 5
}
